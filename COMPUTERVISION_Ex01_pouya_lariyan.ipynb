{
 "cells": [
  {
   "cell_type": "code",
   "execution_count": 40,
   "metadata": {},
   "outputs": [],
   "source": [
    "import tensorflow as tf\n",
    "from tensorflow.keras.applications import ResNet50\n",
    "from tensorflow.keras.layers import Dense, GlobalAveragePooling2D\n",
    "from tensorflow.keras import layers, models\n",
    "from tensorflow.keras.layers import Layer, Input\n",
    "import tensorflow.keras.backend as K"
   ]
  },
  {
   "cell_type": "code",
   "execution_count": null,
   "metadata": {},
   "outputs": [],
   "source": [
    "def build_feature_extractor():\n",
    "    base_model = model = ResNet50(weights=None, include_top=False, input_shape=(224, 224, 3))\n",
    "    base_model.load_weights('resnet50_weights_tf_dim_ordering_tf_kernels_notop.h5')\n",
    "    base_model.trainable = False\n",
    "\n",
    "    x = base_model.output\n",
    "    x = GlobalAveragePooling2D()(x)\n",
    "    x = Dense(512, activation='relu')(x)\n",
    "    x = Dense(256, activation='relu')(x)\n",
    "    return models.Model(inputs=base_model.input, outputs=x)\n",
    "\n",
    "feature_extractor = build_feature_extractor()"
   ]
  },
  {
   "cell_type": "markdown",
   "metadata": {},
   "source": [
    "# Siamese Network"
   ]
  },
  {
   "cell_type": "code",
   "execution_count": 39,
   "metadata": {},
   "outputs": [],
   "source": [
    "class EuclideanDistance(Layer):\n",
    "    def __init__(self, **kwargs):\n",
    "        super(EuclideanDistance, self).__init__(**kwargs)\n",
    "\n",
    "    def call(self, inputs):\n",
    "        x1, x2 = inputs\n",
    "        return K.sqrt(K.sum(K.square(x1 - x2), axis=-1, keepdims=True))"
   ]
  },
  {
   "cell_type": "code",
   "execution_count": 41,
   "metadata": {},
   "outputs": [],
   "source": [
    "def contrastive_loss(y_true, y_pred, margin=1.0):\n",
    "    squared_pred = K.square(y_pred)  # D^2\n",
    "    margin_square = K.square(K.maximum(margin - y_pred, 0))  # (margin - D)^2\n",
    "    return K.mean((1 - y_true) * squared_pred + y_true * margin_square)"
   ]
  },
  {
   "cell_type": "code",
   "execution_count": 43,
   "metadata": {},
   "outputs": [],
   "source": [
    "def SiameseNet():\n",
    "    input_a = Input(shape=(224, 224, 3))\n",
    "    input_b = Input(shape=(224, 224, 3))\n",
    "    feature_a = feature_extractor(input_a)\n",
    "    feature_b = feature_extractor(input_b)\n",
    "    distance = EuclideanDistance()([feature_a, feature_b])\n",
    "    siamese_model = models.Model(inputs=[input_a, input_b], outputs=distance)\n",
    "    siamese_model.compile(loss=contrastive_loss, optimizer='adam', metrics=['accuracy'])\n",
    "    return siamese_model\n",
    "\n",
    "\n",
    "siamese_model = SiameseNet()\n",
    "#siamese_model.summary()"
   ]
  },
  {
   "cell_type": "code",
   "execution_count": null,
   "metadata": {},
   "outputs": [],
   "source": []
  }
 ],
 "metadata": {
  "kernelspec": {
   "display_name": ".venv",
   "language": "python",
   "name": "python3"
  },
  "language_info": {
   "codemirror_mode": {
    "name": "ipython",
    "version": 3
   },
   "file_extension": ".py",
   "mimetype": "text/x-python",
   "name": "python",
   "nbconvert_exporter": "python",
   "pygments_lexer": "ipython3",
   "version": "3.12.6"
  }
 },
 "nbformat": 4,
 "nbformat_minor": 2
}
